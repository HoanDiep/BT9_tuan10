{
  "nbformat": 4,
  "nbformat_minor": 0,
  "metadata": {
    "colab": {
      "provenance": [],
      "authorship_tag": "ABX9TyM0WHJyizHi9GEDCisnCJXI",
      "include_colab_link": true
    },
    "kernelspec": {
      "name": "python3",
      "display_name": "Python 3"
    },
    "language_info": {
      "name": "python"
    },
    "accelerator": "GPU",
    "gpuClass": "standard"
  },
  "cells": [
    {
      "cell_type": "markdown",
      "metadata": {
        "id": "view-in-github",
        "colab_type": "text"
      },
      "source": [
        "<a href=\"https://colab.research.google.com/github/HoanDiep/BT9_tuan10/blob/main/cifar100.ipynb\" target=\"_parent\"><img src=\"https://colab.research.google.com/assets/colab-badge.svg\" alt=\"Open In Colab\"/></a>"
      ]
    },
    {
      "cell_type": "code",
      "execution_count": null,
      "metadata": {
        "id": "RppjoSaAvmJn"
      },
      "outputs": [],
      "source": [
        "from keras.datasets import cifar100\n",
        "from keras.models import Sequential\n",
        "import matplotlib.pyplot as plt\n",
        "\n",
        "(x_trains, y_trains) ,(x_test, y_test) = cifar100.load_data()"
      ]
    },
    {
      "cell_type": "code",
      "source": [
        "x_trains.shape\n"
      ],
      "metadata": {
        "colab": {
          "base_uri": "https://localhost:8080/"
        },
        "id": "3oPw22LLwK_u",
        "outputId": "dc84a757-e637-4231-fe41-56c931a01a8b"
      },
      "execution_count": null,
      "outputs": [
        {
          "output_type": "execute_result",
          "data": {
            "text/plain": [
              "(50000, 32, 32, 3)"
            ]
          },
          "metadata": {},
          "execution_count": 15
        }
      ]
    },
    {
      "cell_type": "code",
      "source": [
        "y_trains.shape"
      ],
      "metadata": {
        "colab": {
          "base_uri": "https://localhost:8080/"
        },
        "id": "KAcq7AitwQGG",
        "outputId": "e673f5e5-4243-43c4-bbd9-7029243df0fe"
      },
      "execution_count": null,
      "outputs": [
        {
          "output_type": "execute_result",
          "data": {
            "text/plain": [
              "(50000, 1)"
            ]
          },
          "metadata": {},
          "execution_count": 16
        }
      ]
    },
    {
      "cell_type": "code",
      "source": [
        "x_test.shape"
      ],
      "metadata": {
        "colab": {
          "base_uri": "https://localhost:8080/"
        },
        "id": "8cnZOzBCwy3H",
        "outputId": "43fa9c35-7aff-422e-99e9-ee71a94de842"
      },
      "execution_count": null,
      "outputs": [
        {
          "output_type": "execute_result",
          "data": {
            "text/plain": [
              "(10000, 32, 32, 3)"
            ]
          },
          "metadata": {},
          "execution_count": 17
        }
      ]
    },
    {
      "cell_type": "code",
      "source": [
        "x_trains = x_trains.reshape(50000,32*32*3)\n",
        "x_test = x_test.reshape(10000,32*32*3)"
      ],
      "metadata": {
        "id": "_-xgdMAWwVql"
      },
      "execution_count": null,
      "outputs": []
    },
    {
      "cell_type": "code",
      "source": [
        "from numpy import float32\n",
        "x_trains = x_trains.astype('float32')/255\n",
        "x_test = x_test.astype('float32')/255"
      ],
      "metadata": {
        "id": "1iOArQrOxCsv"
      },
      "execution_count": null,
      "outputs": []
    },
    {
      "cell_type": "code",
      "source": [
        "from keras.utils import to_categorical\n",
        "y_trains = to_categorical(y_trains,100)\n",
        "y_test = to_categorical(y_test,100)"
      ],
      "metadata": {
        "id": "L9nu2nLv0e3U"
      },
      "execution_count": null,
      "outputs": []
    },
    {
      "cell_type": "code",
      "source": [
        "from keras.layers import Dense\n",
        "model = Sequential()\n",
        "model.add(Dense(1024,activation='relu',input_shape=(32*32*3,)))\n",
        "model.add(Dense(512,activation = 'relu'))\n",
        "model.add(Dense(256,activation ='relu'))\n",
        "model.add(Dense(128,activation='relu'))\n",
        "model.add(Dense(100,activation='softmax'))\n",
        "model.summary()"
      ],
      "metadata": {
        "colab": {
          "base_uri": "https://localhost:8080/"
        },
        "id": "R03gB05fxHqr",
        "outputId": "9e26a92f-365a-47ec-a66c-a4b4999cb292"
      },
      "execution_count": null,
      "outputs": [
        {
          "output_type": "stream",
          "name": "stdout",
          "text": [
            "Model: \"sequential_1\"\n",
            "_________________________________________________________________\n",
            " Layer (type)                Output Shape              Param #   \n",
            "=================================================================\n",
            " dense_5 (Dense)             (None, 1024)              3146752   \n",
            "                                                                 \n",
            " dense_6 (Dense)             (None, 512)               524800    \n",
            "                                                                 \n",
            " dense_7 (Dense)             (None, 256)               131328    \n",
            "                                                                 \n",
            " dense_8 (Dense)             (None, 128)               32896     \n",
            "                                                                 \n",
            " dense_9 (Dense)             (None, 100)               12900     \n",
            "                                                                 \n",
            "=================================================================\n",
            "Total params: 3,848,676\n",
            "Trainable params: 3,848,676\n",
            "Non-trainable params: 0\n",
            "_________________________________________________________________\n"
          ]
        }
      ]
    },
    {
      "cell_type": "code",
      "source": [
        "model.compile(optimizer='adam',loss='categorical_crossentropy',metrics=['accuracy'])\n",
        "model.fit(x_trains,y_trains,epochs=100,batch_size=32)\n",
        "test_loss,test_acc=model.evaluate(x_test,y_test)\n",
        "\n",
        "print('test_acc:',test_acc)\n",
        "print('test_loss:',test_loss)"
      ],
      "metadata": {
        "colab": {
          "base_uri": "https://localhost:8080/"
        },
        "id": "XgO_42bYyxuD",
        "outputId": "9cc9eccd-4420-4eb9-e83e-6378a431e8ea"
      },
      "execution_count": null,
      "outputs": [
        {
          "output_type": "stream",
          "name": "stdout",
          "text": [
            "Epoch 1/100\n",
            "1563/1563 [==============================] - 8s 4ms/step - loss: 4.5694 - accuracy: 0.0127\n",
            "Epoch 2/100\n",
            "1563/1563 [==============================] - 6s 4ms/step - loss: 4.1400 - accuracy: 0.0543\n",
            "Epoch 3/100\n",
            "1563/1563 [==============================] - 7s 5ms/step - loss: 3.9593 - accuracy: 0.0801\n",
            "Epoch 4/100\n",
            "1563/1563 [==============================] - 7s 4ms/step - loss: 3.8558 - accuracy: 0.0943\n",
            "Epoch 5/100\n",
            "1563/1563 [==============================] - 7s 5ms/step - loss: 3.8080 - accuracy: 0.1034\n",
            "Epoch 6/100\n",
            "1563/1563 [==============================] - 7s 5ms/step - loss: 3.7793 - accuracy: 0.1079\n",
            "Epoch 7/100\n",
            "1563/1563 [==============================] - 7s 4ms/step - loss: 3.7531 - accuracy: 0.1121\n",
            "Epoch 8/100\n",
            "1563/1563 [==============================] - 6s 4ms/step - loss: 3.7248 - accuracy: 0.1149\n",
            "Epoch 9/100\n",
            "1563/1563 [==============================] - 7s 4ms/step - loss: 3.6972 - accuracy: 0.1203\n",
            "Epoch 10/100\n",
            "1563/1563 [==============================] - 6s 4ms/step - loss: 3.6612 - accuracy: 0.1277\n",
            "Epoch 11/100\n",
            "1563/1563 [==============================] - 7s 4ms/step - loss: 3.6293 - accuracy: 0.1332\n",
            "Epoch 12/100\n",
            "1563/1563 [==============================] - 6s 4ms/step - loss: 3.5970 - accuracy: 0.1372\n",
            "Epoch 13/100\n",
            "1563/1563 [==============================] - 7s 4ms/step - loss: 3.5674 - accuracy: 0.1444\n",
            "Epoch 14/100\n",
            "1563/1563 [==============================] - 6s 4ms/step - loss: 3.5464 - accuracy: 0.1475\n",
            "Epoch 15/100\n",
            "1563/1563 [==============================] - 6s 4ms/step - loss: 3.5223 - accuracy: 0.1529\n",
            "Epoch 16/100\n",
            "1563/1563 [==============================] - 7s 5ms/step - loss: 3.5007 - accuracy: 0.1540\n",
            "Epoch 17/100\n",
            "1563/1563 [==============================] - 6s 4ms/step - loss: 3.4841 - accuracy: 0.1592\n",
            "Epoch 18/100\n",
            "1563/1563 [==============================] - 7s 4ms/step - loss: 3.4664 - accuracy: 0.1603\n",
            "Epoch 19/100\n",
            "1563/1563 [==============================] - 6s 4ms/step - loss: 3.4432 - accuracy: 0.1652\n",
            "Epoch 20/100\n",
            "1563/1563 [==============================] - 7s 4ms/step - loss: 3.4229 - accuracy: 0.1700\n",
            "Epoch 21/100\n",
            "1563/1563 [==============================] - 6s 4ms/step - loss: 3.4059 - accuracy: 0.1733\n",
            "Epoch 22/100\n",
            "1563/1563 [==============================] - 7s 4ms/step - loss: 3.3830 - accuracy: 0.1751\n",
            "Epoch 23/100\n",
            "1563/1563 [==============================] - 6s 4ms/step - loss: 3.3626 - accuracy: 0.1804\n",
            "Epoch 24/100\n",
            "1563/1563 [==============================] - 7s 4ms/step - loss: 3.3488 - accuracy: 0.1809\n",
            "Epoch 25/100\n",
            "1563/1563 [==============================] - 6s 4ms/step - loss: 3.3352 - accuracy: 0.1844\n",
            "Epoch 26/100\n",
            "1563/1563 [==============================] - 7s 4ms/step - loss: 3.3149 - accuracy: 0.1883\n",
            "Epoch 27/100\n",
            "1563/1563 [==============================] - 6s 4ms/step - loss: 3.3024 - accuracy: 0.1895\n",
            "Epoch 28/100\n",
            "1563/1563 [==============================] - 7s 4ms/step - loss: 3.2893 - accuracy: 0.1938\n",
            "Epoch 29/100\n",
            "1563/1563 [==============================] - 6s 4ms/step - loss: 3.2762 - accuracy: 0.1945\n",
            "Epoch 30/100\n",
            "1563/1563 [==============================] - 7s 4ms/step - loss: 3.2611 - accuracy: 0.1987\n",
            "Epoch 31/100\n",
            "1563/1563 [==============================] - 6s 4ms/step - loss: 3.2519 - accuracy: 0.1973\n",
            "Epoch 32/100\n",
            "1563/1563 [==============================] - 7s 4ms/step - loss: 3.2379 - accuracy: 0.2034\n",
            "Epoch 33/100\n",
            "1563/1563 [==============================] - 6s 4ms/step - loss: 3.2299 - accuracy: 0.2043\n",
            "Epoch 34/100\n",
            "1563/1563 [==============================] - 7s 4ms/step - loss: 3.2212 - accuracy: 0.2075\n",
            "Epoch 35/100\n",
            "1563/1563 [==============================] - 6s 4ms/step - loss: 3.2095 - accuracy: 0.2067\n",
            "Epoch 36/100\n",
            "1563/1563 [==============================] - 6s 4ms/step - loss: 3.1986 - accuracy: 0.2087\n",
            "Epoch 37/100\n",
            "1563/1563 [==============================] - 6s 4ms/step - loss: 3.1898 - accuracy: 0.2121\n",
            "Epoch 38/100\n",
            "1563/1563 [==============================] - 6s 4ms/step - loss: 3.1777 - accuracy: 0.2128\n",
            "Epoch 39/100\n",
            "1563/1563 [==============================] - 6s 4ms/step - loss: 3.1744 - accuracy: 0.2135\n",
            "Epoch 40/100\n",
            "1563/1563 [==============================] - 6s 4ms/step - loss: 3.1571 - accuracy: 0.2173\n",
            "Epoch 41/100\n",
            "1563/1563 [==============================] - 7s 4ms/step - loss: 3.1546 - accuracy: 0.2184\n",
            "Epoch 42/100\n",
            "1563/1563 [==============================] - 6s 4ms/step - loss: 3.1406 - accuracy: 0.2205\n",
            "Epoch 43/100\n",
            "1563/1563 [==============================] - 7s 4ms/step - loss: 3.1307 - accuracy: 0.2209\n",
            "Epoch 44/100\n",
            "1563/1563 [==============================] - 6s 4ms/step - loss: 3.1271 - accuracy: 0.2201\n",
            "Epoch 45/100\n",
            "1563/1563 [==============================] - 7s 4ms/step - loss: 3.1149 - accuracy: 0.2233\n",
            "Epoch 46/100\n",
            "1563/1563 [==============================] - 6s 4ms/step - loss: 3.1093 - accuracy: 0.2272\n",
            "Epoch 47/100\n",
            "1563/1563 [==============================] - 7s 4ms/step - loss: 3.1072 - accuracy: 0.2250\n",
            "Epoch 48/100\n",
            "1563/1563 [==============================] - 6s 4ms/step - loss: 3.1049 - accuracy: 0.2256\n",
            "Epoch 49/100\n",
            "1563/1563 [==============================] - 7s 4ms/step - loss: 3.0890 - accuracy: 0.2279\n",
            "Epoch 50/100\n",
            "1563/1563 [==============================] - 6s 4ms/step - loss: 3.0779 - accuracy: 0.2298\n",
            "Epoch 51/100\n",
            "1563/1563 [==============================] - 7s 4ms/step - loss: 3.0768 - accuracy: 0.2306\n",
            "Epoch 52/100\n",
            "1563/1563 [==============================] - 6s 4ms/step - loss: 3.0728 - accuracy: 0.2325\n",
            "Epoch 53/100\n",
            "1563/1563 [==============================] - 7s 4ms/step - loss: 3.0636 - accuracy: 0.2347\n",
            "Epoch 54/100\n",
            "1563/1563 [==============================] - 6s 4ms/step - loss: 3.0630 - accuracy: 0.2347\n",
            "Epoch 55/100\n",
            "1563/1563 [==============================] - 7s 4ms/step - loss: 3.0463 - accuracy: 0.2364\n",
            "Epoch 56/100\n",
            "1563/1563 [==============================] - 6s 4ms/step - loss: 3.0461 - accuracy: 0.2372\n",
            "Epoch 57/100\n",
            "1563/1563 [==============================] - 7s 4ms/step - loss: 3.0355 - accuracy: 0.2389\n",
            "Epoch 58/100\n",
            "1563/1563 [==============================] - 6s 4ms/step - loss: 3.0342 - accuracy: 0.2381\n",
            "Epoch 59/100\n",
            "1563/1563 [==============================] - 7s 4ms/step - loss: 3.0240 - accuracy: 0.2425\n",
            "Epoch 60/100\n",
            "1563/1563 [==============================] - 6s 4ms/step - loss: 3.0178 - accuracy: 0.2426\n",
            "Epoch 61/100\n",
            "1563/1563 [==============================] - 7s 4ms/step - loss: 3.0150 - accuracy: 0.2444\n",
            "Epoch 62/100\n",
            "1563/1563 [==============================] - 6s 4ms/step - loss: 3.0221 - accuracy: 0.2416\n",
            "Epoch 63/100\n",
            "1563/1563 [==============================] - 6s 4ms/step - loss: 3.0083 - accuracy: 0.2449\n",
            "Epoch 64/100\n",
            "1563/1563 [==============================] - 6s 4ms/step - loss: 3.0073 - accuracy: 0.2453\n",
            "Epoch 65/100\n",
            "1563/1563 [==============================] - 6s 4ms/step - loss: 2.9989 - accuracy: 0.2459\n",
            "Epoch 66/100\n",
            "1563/1563 [==============================] - 6s 4ms/step - loss: 2.9953 - accuracy: 0.2459\n",
            "Epoch 67/100\n",
            "1563/1563 [==============================] - 6s 4ms/step - loss: 2.9890 - accuracy: 0.2451\n",
            "Epoch 68/100\n",
            "1563/1563 [==============================] - 7s 4ms/step - loss: 2.9793 - accuracy: 0.2512\n",
            "Epoch 69/100\n",
            "1563/1563 [==============================] - 6s 4ms/step - loss: 2.9851 - accuracy: 0.2495\n",
            "Epoch 70/100\n",
            "1563/1563 [==============================] - 7s 4ms/step - loss: 2.9788 - accuracy: 0.2504\n",
            "Epoch 71/100\n",
            "1563/1563 [==============================] - 6s 4ms/step - loss: 2.9767 - accuracy: 0.2522\n",
            "Epoch 72/100\n",
            "1563/1563 [==============================] - 7s 4ms/step - loss: 2.9619 - accuracy: 0.2536\n",
            "Epoch 73/100\n",
            "1563/1563 [==============================] - 6s 4ms/step - loss: 2.9620 - accuracy: 0.2540\n",
            "Epoch 74/100\n",
            "1563/1563 [==============================] - 7s 4ms/step - loss: 2.9599 - accuracy: 0.2542\n",
            "Epoch 75/100\n",
            "1563/1563 [==============================] - 6s 4ms/step - loss: 2.9612 - accuracy: 0.2542\n",
            "Epoch 76/100\n",
            "1563/1563 [==============================] - 7s 4ms/step - loss: 2.9562 - accuracy: 0.2555\n",
            "Epoch 77/100\n",
            "1563/1563 [==============================] - 6s 4ms/step - loss: 2.9560 - accuracy: 0.2575\n",
            "Epoch 78/100\n",
            "1563/1563 [==============================] - 7s 4ms/step - loss: 2.9509 - accuracy: 0.2563\n",
            "Epoch 79/100\n",
            "1563/1563 [==============================] - 6s 4ms/step - loss: 2.9456 - accuracy: 0.2580\n",
            "Epoch 80/100\n",
            "1563/1563 [==============================] - 7s 4ms/step - loss: 2.9428 - accuracy: 0.2576\n",
            "Epoch 81/100\n",
            "1563/1563 [==============================] - 6s 4ms/step - loss: 2.9504 - accuracy: 0.2568\n",
            "Epoch 82/100\n",
            "1563/1563 [==============================] - 7s 4ms/step - loss: 2.9375 - accuracy: 0.2590\n",
            "Epoch 83/100\n",
            "1563/1563 [==============================] - 6s 4ms/step - loss: 2.9339 - accuracy: 0.2587\n",
            "Epoch 84/100\n",
            "1563/1563 [==============================] - 7s 4ms/step - loss: 2.9393 - accuracy: 0.2590\n",
            "Epoch 85/100\n",
            "1563/1563 [==============================] - 6s 4ms/step - loss: 2.9287 - accuracy: 0.2590\n",
            "Epoch 86/100\n",
            "1563/1563 [==============================] - 7s 4ms/step - loss: 2.9190 - accuracy: 0.2643\n",
            "Epoch 87/100\n",
            "1563/1563 [==============================] - 6s 4ms/step - loss: 2.9189 - accuracy: 0.2632\n",
            "Epoch 88/100\n",
            "1563/1563 [==============================] - 6s 4ms/step - loss: 2.9147 - accuracy: 0.2646\n",
            "Epoch 89/100\n",
            "1563/1563 [==============================] - 6s 4ms/step - loss: 2.9095 - accuracy: 0.2660\n",
            "Epoch 90/100\n",
            "1563/1563 [==============================] - 7s 4ms/step - loss: 2.9070 - accuracy: 0.2644\n",
            "Epoch 91/100\n",
            "1563/1563 [==============================] - 6s 4ms/step - loss: 2.9118 - accuracy: 0.2660\n",
            "Epoch 92/100\n",
            "1563/1563 [==============================] - 6s 4ms/step - loss: 2.9053 - accuracy: 0.2648\n",
            "Epoch 93/100\n",
            "1563/1563 [==============================] - 8s 5ms/step - loss: 2.9185 - accuracy: 0.2631\n",
            "Epoch 94/100\n",
            "1563/1563 [==============================] - 10s 6ms/step - loss: 2.9067 - accuracy: 0.2652\n",
            "Epoch 95/100\n",
            "1563/1563 [==============================] - 9s 6ms/step - loss: 2.9035 - accuracy: 0.2667\n",
            "Epoch 96/100\n",
            "1563/1563 [==============================] - 9s 6ms/step - loss: 2.9065 - accuracy: 0.2674\n",
            "Epoch 97/100\n",
            "1563/1563 [==============================] - 6s 4ms/step - loss: 2.8902 - accuracy: 0.2691\n",
            "Epoch 98/100\n",
            "1563/1563 [==============================] - 9s 6ms/step - loss: 2.9035 - accuracy: 0.2667\n",
            "Epoch 99/100\n",
            "1563/1563 [==============================] - 11s 7ms/step - loss: 2.8865 - accuracy: 0.2699\n",
            "Epoch 100/100\n",
            "1563/1563 [==============================] - 8s 5ms/step - loss: 2.9040 - accuracy: 0.2678\n",
            "313/313 [==============================] - 1s 3ms/step - loss: 4.2666 - accuracy: 0.1667\n",
            "test_acc: 0.16670000553131104\n",
            "test_loss: 4.266618728637695\n"
          ]
        }
      ]
    },
    {
      "cell_type": "code",
      "source": [
        "from keras.utils import load_img\n",
        "import matplotlib.pyplot as plt\n",
        "img = load_img('meo1.jpg',target_size=(32,32))\n",
        "plt.imshow(img)"
      ],
      "metadata": {
        "colab": {
          "base_uri": "https://localhost:8080/",
          "height": 447
        },
        "id": "L958_X6J4I1m",
        "outputId": "aa72ba41-22cb-483c-88df-4020c18cbbce"
      },
      "execution_count": null,
      "outputs": [
        {
          "output_type": "execute_result",
          "data": {
            "text/plain": [
              "<matplotlib.image.AxesImage at 0x7f093bca1e50>"
            ]
          },
          "metadata": {},
          "execution_count": 23
        },
        {
          "output_type": "display_data",
          "data": {
            "text/plain": [
              "<Figure size 640x480 with 1 Axes>"
            ],
            "image/png": "[encoded data removed]"
          },
          "metadata": {}
        }
      ]
    },
    {
      "cell_type": "code",
      "source": [
        "import numpy as np\n",
        "from keras.utils.image_utils import img_to_array\n",
        "img = img_to_array(img)\n",
        "img = img.reshape(1,32*32*3)\n",
        "img=img.astype('float32')\n",
        "img=img/255\n",
        "np.argmax(model.predict(img),axis=-1)"
      ],
      "metadata": {
        "colab": {
          "base_uri": "https://localhost:8080/"
        },
        "id": "Gh22OZzM47i5",
        "outputId": "074dd7af-1f0d-4398-b3d4-e5badc65b6f2"
      },
      "execution_count": null,
      "outputs": [
        {
          "output_type": "stream",
          "name": "stdout",
          "text": [
            "1/1 [==============================] - 0s 83ms/step\n"
          ]
        },
        {
          "output_type": "execute_result",
          "data": {
            "text/plain": [
              "array([38])"
            ]
          },
          "metadata": {},
          "execution_count": 24
        }
      ]
    },
    {
      "cell_type": "code",
      "source": [
        "model.save('model_cifar100.h5')"
      ],
      "metadata": {
        "id": "ByXmdXXH7uFs"
      },
      "execution_count": null,
      "outputs": []
    },
    {
      "cell_type": "code",
      "source": [
        "from google.colab import drive\n",
        "drive.mount('/content/drive')\n",
        "!cp model_cifar100.h5 \"/content/drive/My Drive/Colab Notebooks/\""
      ],
      "metadata": {
        "colab": {
          "base_uri": "https://localhost:8080/"
        },
        "id": "FPfYeEmJ7kWy",
        "outputId": "916be34d-0bfc-40bc-980f-846c14e124d1"
      },
      "execution_count": null,
      "outputs": [
        {
          "output_type": "stream",
          "name": "stdout",
          "text": [
            "Drive already mounted at /content/drive; to attempt to forcibly remount, call drive.mount(\"/content/drive\", force_remount=True).\n"
          ]
        }
      ]
    }
  ]
}